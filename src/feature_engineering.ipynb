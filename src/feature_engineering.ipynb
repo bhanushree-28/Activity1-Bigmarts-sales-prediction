{
 "cells": [
  {
   "cell_type": "code",
   "execution_count": 1,
   "metadata": {},
   "outputs": [],
   "source": [
    "import numpy as np\n",
    "import pandas as pd\n",
    "import matplotlib.pyplot as plt\n",
    "import sklearn\n",
    "import seaborn as sns"
   ]
  },
  {
   "cell_type": "code",
   "execution_count": 9,
   "metadata": {},
   "outputs": [],
   "source": [
    "data_train= pd.read_csv(r'C:\\Users\\User\\Desktop\\activity\\Activity1-Bigmarts-sales-prediction\\data\\Train.csv')\n",
    "data_test= pd.read_csv(r'C:\\Users\\User\\Desktop\\activity\\Activity1-Bigmarts-sales-prediction\\data\\Test.csv')"
   ]
  },
  {
   "cell_type": "code",
   "execution_count": 10,
   "metadata": {},
   "outputs": [],
   "source": [
    "def modify_item_visibility(data_train):\n",
    "    #Determine average visibility of a product\n",
    "    visibility_avg = data_train.pivot_table(values='Item_Visibility', index='Item_Identifier')\n",
    "\n",
    "    #Impute 0 values with mean visibility of that product:\n",
    "    miss_bool = (data_train['Item_Visibility'] == 0)\n",
    "\n",
    "    print('Number of 0 values initially: %d'%sum(miss_bool))\n",
    "    data_train.loc[miss_bool,'Item_Visibility'] = data_train.loc[miss_bool,'Item_Identifier'].apply(lambda x: visibility_avg.loc[x])\n",
    "    print('Number of 0 values after modification: %d'%sum(data_train['Item_Visibility'] == 0))"
   ]
  },
  {
   "cell_type": "code",
   "execution_count": 11,
   "metadata": {},
   "outputs": [
    {
     "name": "stdout",
     "output_type": "stream",
     "text": [
      "Number of 0 values initially: 526\n",
      "Number of 0 values after modification: 0\n"
     ]
    }
   ],
   "source": [
    "modify_item_visibility(data_train)\n"
   ]
  },
  {
   "cell_type": "code",
   "execution_count": 12,
   "metadata": {},
   "outputs": [
    {
     "data": {
      "text/plain": [
       "count    8523.000000\n",
       "mean        0.069670\n",
       "std         0.049810\n",
       "min         0.003575\n",
       "25%         0.031114\n",
       "50%         0.056922\n",
       "75%         0.097160\n",
       "max         0.328391\n",
       "Name: Item_Visibility, dtype: float64"
      ]
     },
     "execution_count": 12,
     "metadata": {},
     "output_type": "execute_result"
    }
   ],
   "source": [
    "data_train[\"Item_Visibility\"].describe()"
   ]
  },
  {
   "cell_type": "code",
   "execution_count": 13,
   "metadata": {},
   "outputs": [
    {
     "data": {
      "text/plain": [
       "0       FDA15\n",
       "1       DRC01\n",
       "2       FDN15\n",
       "3       FDX07\n",
       "4       NCD19\n",
       "        ...  \n",
       "8518    FDF22\n",
       "8519    FDS36\n",
       "8520    NCJ29\n",
       "8521    FDN46\n",
       "8522    DRG01\n",
       "Name: Item_Identifier, Length: 8523, dtype: object"
      ]
     },
     "execution_count": 13,
     "metadata": {},
     "output_type": "execute_result"
    }
   ],
   "source": [
    "data_train['Item_Identifier']"
   ]
  },
  {
   "cell_type": "code",
   "execution_count": 14,
   "metadata": {},
   "outputs": [
    {
     "name": "stdout",
     "output_type": "stream",
     "text": [
      "Frequency of Categories for varible Item Type\n"
     ]
    },
    {
     "data": {
      "text/plain": [
       "Item_Type\n",
       "Fruits and Vegetables    1232\n",
       "Snack Foods              1200\n",
       "Household                 910\n",
       "Frozen Foods              856\n",
       "Dairy                     682\n",
       "Canned                    649\n",
       "Baking Goods              648\n",
       "Health and Hygiene        520\n",
       "Soft Drinks               445\n",
       "Meat                      425\n",
       "Breads                    251\n",
       "Hard Drinks               214\n",
       "Others                    169\n",
       "Starchy Foods             148\n",
       "Breakfast                 110\n",
       "Seafood                    64\n",
       "Name: count, dtype: int64"
      ]
     },
     "execution_count": 14,
     "metadata": {},
     "output_type": "execute_result"
    }
   ],
   "source": [
    "print('Frequency of Categories for varible Item Type')\n",
    "data_train['Item_Type'].value_counts()"
   ]
  },
  {
   "cell_type": "code",
   "execution_count": 15,
   "metadata": {},
   "outputs": [
    {
     "data": {
      "text/plain": [
       "Item_Identifier  Item_Type         \n",
       "DRA12            Soft Drinks           6\n",
       "DRA24            Soft Drinks           7\n",
       "DRA59            Soft Drinks           8\n",
       "DRB01            Soft Drinks           3\n",
       "DRB13            Soft Drinks           5\n",
       "                                      ..\n",
       "NCZ30            Household             7\n",
       "NCZ41            Health and Hygiene    5\n",
       "NCZ42            Household             5\n",
       "NCZ53            Health and Hygiene    5\n",
       "NCZ54            Household             7\n",
       "Length: 1559, dtype: int64"
      ]
     },
     "execution_count": 15,
     "metadata": {},
     "output_type": "execute_result"
    }
   ],
   "source": [
    "data_train.groupby([\"Item_Identifier\",\"Item_Type\"]).size()"
   ]
  },
  {
   "cell_type": "code",
   "execution_count": 16,
   "metadata": {},
   "outputs": [],
   "source": [
    "def broad_item_type(data_train):\n",
    "    #Get the first two characters of ID:\n",
    "    data_train['Item_Type_Combined'] = data_train['Item_Identifier'].apply(lambda x: x[0:2])\n",
    "    #Rename them to more intuitive categories:\n",
    "    data_train['Item_Type_Combined'] = data_train['Item_Type_Combined'].map({'FD':'Food',\n",
    "                                                                 'NC':'Non-Consumable',\n",
    "                                                                 'DR':'Drinks'})\n",
    "    print(data_train['Item_Type_Combined'].value_counts())"
   ]
  },
  {
   "cell_type": "code",
   "execution_count": 17,
   "metadata": {},
   "outputs": [
    {
     "data": {
      "text/plain": [
       "Outlet_Establishment_Year\n",
       "1985    1463\n",
       "1987     932\n",
       "1999     930\n",
       "1997     930\n",
       "2004     930\n",
       "2002     929\n",
       "2009     928\n",
       "2007     926\n",
       "1998     555\n",
       "Name: count, dtype: int64"
      ]
     },
     "execution_count": 17,
     "metadata": {},
     "output_type": "execute_result"
    }
   ],
   "source": [
    "data_train[\"Outlet_Establishment_Year\"].value_counts()"
   ]
  },
  {
   "cell_type": "code",
   "execution_count": 18,
   "metadata": {},
   "outputs": [
    {
     "data": {
      "text/plain": [
       "Outlet_Establishment_Year  Outlet_Identifier  Outlet_Type        Outlet_Location_Type\n",
       "1985                       OUT019             Grocery Store      Tier 1                   340.329723\n",
       "                           OUT027             Supermarket Type3  Tier 3                  3694.038558\n",
       "1987                       OUT013             Supermarket Type1  Tier 3                  2298.995256\n",
       "1997                       OUT046             Supermarket Type1  Tier 1                  2277.844267\n",
       "1998                       OUT010             Grocery Store      Tier 3                   339.351662\n",
       "1999                       OUT049             Supermarket Type1  Tier 1                  2348.354635\n",
       "2002                       OUT045             Supermarket Type1  Tier 2                  2192.384798\n",
       "2004                       OUT035             Supermarket Type1  Tier 2                  2438.841866\n",
       "2007                       OUT017             Supermarket Type1  Tier 2                  2340.675263\n",
       "2009                       OUT018             Supermarket Type2  Tier 3                  1995.498739\n",
       "Name: Item_Outlet_Sales, dtype: float64"
      ]
     },
     "execution_count": 18,
     "metadata": {},
     "output_type": "execute_result"
    }
   ],
   "source": [
    "data_train.groupby([\"Outlet_Establishment_Year\",\"Outlet_Identifier\",\"Outlet_Type\",\"Outlet_Location_Type\"])[\"Item_Outlet_Sales\"].mean()"
   ]
  },
  {
   "cell_type": "code",
   "execution_count": 19,
   "metadata": {},
   "outputs": [],
   "source": [
    "def cal_outlet_year(data_train):\n",
    "    #Years:\n",
    "    data_train['Outlet_Years'] = 2013 - data_train['Outlet_Establishment_Year']\n",
    "    print(data_train['Outlet_Years'].describe())"
   ]
  },
  {
   "cell_type": "code",
   "execution_count": 20,
   "metadata": {},
   "outputs": [
    {
     "name": "stdout",
     "output_type": "stream",
     "text": [
      "count    8523.000000\n",
      "mean       15.168133\n",
      "std         8.371760\n",
      "min         4.000000\n",
      "25%         9.000000\n",
      "50%        14.000000\n",
      "75%        26.000000\n",
      "max        28.000000\n",
      "Name: Outlet_Years, dtype: float64\n"
     ]
    }
   ],
   "source": [
    "cal_outlet_year(data_train)"
   ]
  },
  {
   "cell_type": "code",
   "execution_count": 21,
   "metadata": {},
   "outputs": [],
   "source": [
    "def modify_item_fat_content(data_train):\n",
    "    #Change categories of low fat:\n",
    "    print('Original Categories:')\n",
    "    print(data_train['Item_Fat_Content'].value_counts())\n",
    "\n",
    "    print('\\nModified Categories:')\n",
    "    data_train['Item_Fat_Content'] = data_train['Item_Fat_Content'].replace({'LF':'Low Fat',\n",
    "                                                                 'reg':'Regular',\n",
    "                                                                 'low fat':'Low Fat'})\n",
    "    print(data_train['Item_Fat_Content'].value_counts())"
   ]
  },
  {
   "cell_type": "code",
   "execution_count": 22,
   "metadata": {},
   "outputs": [
    {
     "name": "stdout",
     "output_type": "stream",
     "text": [
      "Original Categories:\n",
      "Item_Fat_Content\n",
      "Low Fat    5089\n",
      "Regular    2889\n",
      "LF          316\n",
      "reg         117\n",
      "low fat     112\n",
      "Name: count, dtype: int64\n",
      "\n",
      "Modified Categories:\n",
      "Item_Fat_Content\n",
      "Low Fat    5517\n",
      "Regular    3006\n",
      "Name: count, dtype: int64\n"
     ]
    }
   ],
   "source": [
    "modify_item_fat_content(data_train)"
   ]
  },
  {
   "cell_type": "code",
   "execution_count": 23,
   "metadata": {},
   "outputs": [],
   "source": []
  },
  {
   "cell_type": "code",
   "execution_count": null,
   "metadata": {},
   "outputs": [],
   "source": []
  },
  {
   "cell_type": "code",
   "execution_count": null,
   "metadata": {},
   "outputs": [],
   "source": []
  }
 ],
 "metadata": {
  "kernelspec": {
   "display_name": "Python 3",
   "language": "python",
   "name": "python3"
  },
  "language_info": {
   "codemirror_mode": {
    "name": "ipython",
    "version": 3
   },
   "file_extension": ".py",
   "mimetype": "text/x-python",
   "name": "python",
   "nbconvert_exporter": "python",
   "pygments_lexer": "ipython3",
   "version": "3.11.9"
  }
 },
 "nbformat": 4,
 "nbformat_minor": 2
}
